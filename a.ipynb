{
 "cells": [
  {
   "cell_type": "markdown",
   "metadata": {},
   "source": [
    "ejer 1 \n"
   ]
  },
  {
   "cell_type": "code",
   "execution_count": 1,
   "metadata": {},
   "outputs": [
    {
     "name": "stdout",
     "output_type": "stream",
     "text": [
      "Es primo\n",
      "¿El número 29 es primo? True\n"
     ]
    }
   ],
   "source": [
    "def primo(n):\n",
    "    if n < 2:\n",
    "        return False\n",
    "    for i in range(2, n):\n",
    "        if n % i == 0:\n",
    "            print(\"No es primo\", i, \"es divisor\")\n",
    "            return False\n",
    "    print(\"Es primo\")\n",
    "    return True\n",
    "\n",
    "num = 29\n",
    "print(f\"¿El número {num} es primo? {primo(num)}\")"
   ]
  },
  {
   "cell_type": "markdown",
   "metadata": {},
   "source": [
    "ejercicio 2 \n"
   ]
  },
  {
   "cell_type": "code",
   "execution_count": 2,
   "metadata": {},
   "outputs": [
    {
     "name": "stdout",
     "output_type": "stream",
     "text": [
      "48\n"
     ]
    }
   ],
   "source": [
    "def arreglo(arr):\n",
    "    return sum(arr)\n",
    "\n",
    "n = [1, 2, 3, 4, 5,33]\n",
    "resultado = arreglo(n)\n",
    "print(resultado)  \n"
   ]
  },
  {
   "cell_type": "markdown",
   "metadata": {},
   "source": [
    "ejercicio 3 \n"
   ]
  },
  {
   "cell_type": "code",
   "execution_count": 6,
   "metadata": {},
   "outputs": [
    {
     "name": "stdout",
     "output_type": "stream",
     "text": [
      "6\n"
     ]
    }
   ],
   "source": [
    "def arreglo(arr,z):\n",
    "    return arr.count(z)\n",
    "\n",
    "n = [1, 2, 3, 4, 5,33, 5 , 5,5,5,5]\n",
    "z= 5 \n",
    "resultado = arreglo(n,z)\n",
    "print(resultado)  "
   ]
  },
  {
   "cell_type": "markdown",
   "metadata": {},
   "source": [
    "ejer 4 \n"
   ]
  },
  {
   "cell_type": "code",
   "execution_count": 10,
   "metadata": {},
   "outputs": [
    {
     "name": "stdout",
     "output_type": "stream",
     "text": [
      "[33]\n"
     ]
    }
   ],
   "source": [
    "def arreglo(arr,z):\n",
    "  return list(filter(lambda x: x > z, arr))\n",
    " \n",
    "n = [1, 2, 3, 4, 5,33, 5 , 5,5,5,5]\n",
    "z= 5 \n",
    "\n",
    "resultado = arreglo(n,z)\n",
    "print(resultado)  "
   ]
  },
  {
   "cell_type": "markdown",
   "metadata": {},
   "source": [
    "ejer 6\n"
   ]
  },
  {
   "cell_type": "code",
   "execution_count": 11,
   "metadata": {},
   "outputs": [
    {
     "name": "stdout",
     "output_type": "stream",
     "text": [
      "[[2, 4], [6, 37]]\n"
     ]
    }
   ],
   "source": [
    "def summatri(matriz1, matriz2):\n",
    "    return [[matriz1[i][j] + matriz2[i][j] for j in range(len(matriz1[i]))] for i in range(len(matriz1))]\n",
    "\n",
    "n = [\n",
    "    [1, 2], \n",
    "    [3, 33]\n",
    "]\n",
    "\n",
    "belgrano = [\n",
    "    [1, 2], \n",
    "    [3, 4]\n",
    "]\n",
    "\n",
    "resultado = summatri(n, belgrano)\n",
    "print(resultado) \n"
   ]
  },
  {
   "cell_type": "markdown",
   "metadata": {},
   "source": [
    "ejer 7 \n"
   ]
  },
  {
   "cell_type": "code",
   "execution_count": 13,
   "metadata": {},
   "outputs": [
    {
     "name": "stdout",
     "output_type": "stream",
     "text": [
      "[[7, 10], [102, 138]]\n"
     ]
    }
   ],
   "source": [
    "def multmatri(matriz1, matriz2):\n",
    "    if len(matriz1[0]) != len(matriz2):\n",
    "        raise ValueError(\"El número de columnas de la primera matriz debe ser igual al número de filas de la segunda matriz.\")\n",
    "    \n",
    "    resultado = [[0 for _ in range(len(matriz2[0]))] for _ in range(len(matriz1))]\n",
    "\n",
    " \n",
    "    for i in range(len(matriz1)):\n",
    "        for j in range(len(matriz2[0])):\n",
    "            for k in range(len(matriz2)):\n",
    "                resultado[i][j] += matriz1[i][k] * matriz2[k][j]\n",
    "\n",
    "    return resultado\n",
    "\n",
    "\n",
    "n = [\n",
    "    [1, 2], \n",
    "    [3, 33]\n",
    "]\n",
    "\n",
    "belgrano = [\n",
    "    [1, 2], \n",
    "    [3, 4]\n",
    "]\n",
    "\n",
    "\n",
    "resultado = multmatri(n, belgrano)\n",
    "\n",
    "print(resultado)\n",
    "\n"
   ]
  }
 ],
 "metadata": {
  "kernelspec": {
   "display_name": "Python 3",
   "language": "python",
   "name": "python3"
  },
  "language_info": {
   "codemirror_mode": {
    "name": "ipython",
    "version": 3
   },
   "file_extension": ".py",
   "mimetype": "text/x-python",
   "name": "python",
   "nbconvert_exporter": "python",
   "pygments_lexer": "ipython3",
   "version": "3.13.2"
  }
 },
 "nbformat": 4,
 "nbformat_minor": 2
}
